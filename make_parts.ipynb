{
  "nbformat": 4,
  "nbformat_minor": 0,
  "metadata": {
    "colab": {
      "name": "make_parts.ipynb",
      "provenance": [],
      "mount_file_id": "1PM4E8h7x94iey2r9vT6mz7ucywPG4XZu",
      "authorship_tag": "ABX9TyN5n79Z2II0s93HkJrgqXiA",
      "include_colab_link": true
    },
    "kernelspec": {
      "name": "python3",
      "display_name": "Python 3"
    },
    "language_info": {
      "name": "python"
    },
    "accelerator": "GPU"
  },
  "cells": [
    {
      "cell_type": "markdown",
      "metadata": {
        "id": "view-in-github",
        "colab_type": "text"
      },
      "source": [
        "<a href=\"https://colab.research.google.com/github/saleh1312/CatsVsDogs-classification-CNN-with-Attention/blob/main/make_parts.ipynb\" target=\"_parent\"><img src=\"https://colab.research.google.com/assets/colab-badge.svg\" alt=\"Open In Colab\"/></a>"
      ]
    },
    {
      "cell_type": "code",
      "metadata": {
        "id": "6llXYh0cCX8g"
      },
      "source": [
        "import tensorflow as tf\n",
        "import numpy as np\n",
        "import os\n",
        "import cv2\n",
        "import matplotlib.pyplot as plt\n",
        "from os.path import join"
      ],
      "execution_count": null,
      "outputs": []
    },
    {
      "cell_type": "code",
      "metadata": {
        "colab": {
          "base_uri": "https://localhost:8080/"
        },
        "id": "x-gOuMkmCuOs",
        "outputId": "05d93eca-f452-4bfa-e7c9-3f6b1742ad96"
      },
      "source": [
        "f=4\n",
        "sh=224\n",
        "sw=224\n",
        "shape=(int(sh/f),int(sw/f))\n",
        "vgg =tf.keras.applications.VGG16(include_top=False,input_shape=(shape[0],shape[1],3) )\n",
        "vgg.summary()"
      ],
      "execution_count": null,
      "outputs": [
        {
          "output_type": "stream",
          "name": "stdout",
          "text": [
            "Downloading data from https://storage.googleapis.com/tensorflow/keras-applications/vgg16/vgg16_weights_tf_dim_ordering_tf_kernels_notop.h5\n",
            "58892288/58889256 [==============================] - 1s 0us/step\n",
            "58900480/58889256 [==============================] - 1s 0us/step\n",
            "Model: \"vgg16\"\n",
            "_________________________________________________________________\n",
            " Layer (type)                Output Shape              Param #   \n",
            "=================================================================\n",
            " input_1 (InputLayer)        [(None, 56, 56, 3)]       0         \n",
            "                                                                 \n",
            " block1_conv1 (Conv2D)       (None, 56, 56, 64)        1792      \n",
            "                                                                 \n",
            " block1_conv2 (Conv2D)       (None, 56, 56, 64)        36928     \n",
            "                                                                 \n",
            " block1_pool (MaxPooling2D)  (None, 28, 28, 64)        0         \n",
            "                                                                 \n",
            " block2_conv1 (Conv2D)       (None, 28, 28, 128)       73856     \n",
            "                                                                 \n",
            " block2_conv2 (Conv2D)       (None, 28, 28, 128)       147584    \n",
            "                                                                 \n",
            " block2_pool (MaxPooling2D)  (None, 14, 14, 128)       0         \n",
            "                                                                 \n",
            " block3_conv1 (Conv2D)       (None, 14, 14, 256)       295168    \n",
            "                                                                 \n",
            " block3_conv2 (Conv2D)       (None, 14, 14, 256)       590080    \n",
            "                                                                 \n",
            " block3_conv3 (Conv2D)       (None, 14, 14, 256)       590080    \n",
            "                                                                 \n",
            " block3_pool (MaxPooling2D)  (None, 7, 7, 256)         0         \n",
            "                                                                 \n",
            " block4_conv1 (Conv2D)       (None, 7, 7, 512)         1180160   \n",
            "                                                                 \n",
            " block4_conv2 (Conv2D)       (None, 7, 7, 512)         2359808   \n",
            "                                                                 \n",
            " block4_conv3 (Conv2D)       (None, 7, 7, 512)         2359808   \n",
            "                                                                 \n",
            " block4_pool (MaxPooling2D)  (None, 3, 3, 512)         0         \n",
            "                                                                 \n",
            " block5_conv1 (Conv2D)       (None, 3, 3, 512)         2359808   \n",
            "                                                                 \n",
            " block5_conv2 (Conv2D)       (None, 3, 3, 512)         2359808   \n",
            "                                                                 \n",
            " block5_conv3 (Conv2D)       (None, 3, 3, 512)         2359808   \n",
            "                                                                 \n",
            " block5_pool (MaxPooling2D)  (None, 1, 1, 512)         0         \n",
            "                                                                 \n",
            "=================================================================\n",
            "Total params: 14,714,688\n",
            "Trainable params: 14,714,688\n",
            "Non-trainable params: 0\n",
            "_________________________________________________________________\n"
          ]
        }
      ]
    },
    {
      "cell_type": "code",
      "metadata": {
        "id": "vHRvXmkHCwv7"
      },
      "source": [
        "path='/content/drive/MyDrive/kaggle_dataset/cat-and-dog/training_set/training_set/'\n",
        "cat_enc={'cats':0,'dogs':1}\n",
        "images=[]\n",
        "parts=[]\n",
        "parts_encode=[]\n",
        "labels=[]\n",
        "\n",
        "for category in os.listdir(path):\n",
        "  num_image=0\n",
        "  for img_path in os.listdir(path+category+'/'):\n",
        "    if num_image==1000:\n",
        "      break\n",
        "    if img_path[-4:] !='.jpg':\n",
        "      continue\n",
        "    #read image ,resize , bgr2rgb\n",
        "    img=cv2.imread(path+category+'/'+img_path)\n",
        "    img=cv2.resize(img,(sw,sh))\n",
        "    img=cv2.cvtColor(img,cv2.COLOR_BGR2RGB)\n",
        "    images.append(img)\n",
        "    #make parts\n",
        "    parts_img=[]\n",
        "    parts_vgg=[]\n",
        "    for y in range(0,img.shape[0],shape[0]):\n",
        "      for x in range(0,img.shape[1],shape[1]):\n",
        "        part=img[y:y+shape[0],x:x+shape[1]]\n",
        "        parts_img.append(part)\n",
        "        pred= vgg.predict(part.reshape((1,part.shape[0],part.shape[1],3)))[0].reshape( (512) )\n",
        "        parts_vgg.append(pred)\n",
        "    parts.append(parts_img)\n",
        "    parts_encode.append(parts_vgg)\n",
        "    #add labels\n",
        "    labels.append(cat_enc[category])\n",
        "    num_image+=1"
      ],
      "execution_count": null,
      "outputs": []
    },
    {
      "cell_type": "code",
      "metadata": {
        "id": "tvDzRLeIC2aU"
      },
      "source": [
        "images_=np.array(images)\n",
        "parts_=np.array(parts)\n",
        "parts_encode_=np.array(parts_encode)\n",
        "labels_=np.array(labels)"
      ],
      "execution_count": null,
      "outputs": []
    },
    {
      "cell_type": "code",
      "metadata": {
        "id": "ncr8ML5IC4OA"
      },
      "source": [
        "np.save('/content/drive/MyDrive/kaggle_dataset/cat-and-dog/cat_dogs_300/images_1000.npy',images_)\n",
        "np.save('/content/drive/MyDrive/kaggle_dataset/cat-and-dog/cat_dogs_300/parts_1000.npy',parts_)\n",
        "np.save('/content/drive/MyDrive/kaggle_dataset/cat-and-dog/cat_dogs_300/parts_encode_1000.npy',parts_encode_)\n",
        "np.save('/content/drive/MyDrive/kaggle_dataset/cat-and-dog/cat_dogs_300/labels_1000.npy',labels_)"
      ],
      "execution_count": null,
      "outputs": []
    },
    {
      "cell_type": "code",
      "metadata": {
        "id": "YFviTNh5DhKK"
      },
      "source": [
        ""
      ],
      "execution_count": null,
      "outputs": []
    }
  ]
}